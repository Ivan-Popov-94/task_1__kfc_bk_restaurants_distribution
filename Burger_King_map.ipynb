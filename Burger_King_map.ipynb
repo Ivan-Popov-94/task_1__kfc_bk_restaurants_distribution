{
 "cells": [
  {
   "cell_type": "markdown",
   "metadata": {},
   "source": [
    "## <center> Рестораны Burger King - ранжирование по количеству конкурентов (KFC) в Москве"
   ]
  },
  {
   "cell_type": "code",
   "execution_count": 1,
   "metadata": {},
   "outputs": [],
   "source": [
    "import re\n",
    "\n",
    "from bs4 import BeautifulSoup\n",
    "from geopy.distance import distance\n",
    "from ipyleaflet import Map, basemaps, Circle, LegendControl, LayerGroup, Popup\n",
    "from IPython.display import display\n",
    "from ipywidgets import HTML\n",
    "import numpy as np\n",
    "import pandas as pd\n",
    "import requests\n",
    "import seaborn as sns"
   ]
  },
  {
   "cell_type": "markdown",
   "metadata": {},
   "source": [
    "**Получим координаты ресторанов Burger King**  \n",
    "  \n",
    "Из скачанного JSON сохраним только столбцы 'storeId', 'latitude' и 'longitude'."
   ]
  },
  {
   "cell_type": "code",
   "execution_count": 3,
   "metadata": {},
   "outputs": [
    {
     "data": {
      "text/html": [
       "<div>\n",
       "<style scoped>\n",
       "    .dataframe tbody tr th:only-of-type {\n",
       "        vertical-align: middle;\n",
       "    }\n",
       "\n",
       "    .dataframe tbody tr th {\n",
       "        vertical-align: top;\n",
       "    }\n",
       "\n",
       "    .dataframe thead th {\n",
       "        text-align: right;\n",
       "    }\n",
       "</style>\n",
       "<table border=\"1\" class=\"dataframe\">\n",
       "  <thead>\n",
       "    <tr style=\"text-align: right;\">\n",
       "      <th></th>\n",
       "      <th>storeId</th>\n",
       "      <th>latitude</th>\n",
       "      <th>longitude</th>\n",
       "    </tr>\n",
       "  </thead>\n",
       "  <tbody>\n",
       "    <tr>\n",
       "      <th>count</th>\n",
       "      <td>752.000000</td>\n",
       "      <td>752.000000</td>\n",
       "      <td>752.000000</td>\n",
       "    </tr>\n",
       "    <tr>\n",
       "      <th>mean</th>\n",
       "      <td>509.002660</td>\n",
       "      <td>55.391408</td>\n",
       "      <td>44.262277</td>\n",
       "    </tr>\n",
       "    <tr>\n",
       "      <th>std</th>\n",
       "      <td>250.943954</td>\n",
       "      <td>3.784405</td>\n",
       "      <td>14.779865</td>\n",
       "    </tr>\n",
       "    <tr>\n",
       "      <th>min</th>\n",
       "      <td>1.000000</td>\n",
       "      <td>43.113688</td>\n",
       "      <td>29.078199</td>\n",
       "    </tr>\n",
       "    <tr>\n",
       "      <th>25%</th>\n",
       "      <td>317.750000</td>\n",
       "      <td>54.986900</td>\n",
       "      <td>37.457047</td>\n",
       "    </tr>\n",
       "    <tr>\n",
       "      <th>50%</th>\n",
       "      <td>523.500000</td>\n",
       "      <td>55.750378</td>\n",
       "      <td>37.840324</td>\n",
       "    </tr>\n",
       "    <tr>\n",
       "      <th>75%</th>\n",
       "      <td>724.250000</td>\n",
       "      <td>56.629225</td>\n",
       "      <td>48.571676</td>\n",
       "    </tr>\n",
       "    <tr>\n",
       "      <th>max</th>\n",
       "      <td>915.000000</td>\n",
       "      <td>68.967102</td>\n",
       "      <td>131.951319</td>\n",
       "    </tr>\n",
       "  </tbody>\n",
       "</table>\n",
       "</div>"
      ],
      "text/plain": [
       "          storeId    latitude   longitude\n",
       "count  752.000000  752.000000  752.000000\n",
       "mean   509.002660   55.391408   44.262277\n",
       "std    250.943954    3.784405   14.779865\n",
       "min      1.000000   43.113688   29.078199\n",
       "25%    317.750000   54.986900   37.457047\n",
       "50%    523.500000   55.750378   37.840324\n",
       "75%    724.250000   56.629225   48.571676\n",
       "max    915.000000   68.967102  131.951319"
      ]
     },
     "execution_count": 3,
     "metadata": {},
     "output_type": "execute_result"
    }
   ],
   "source": [
    "url = 'https://burgerking.ru/restaurant-locations-json-reply-new/'\n",
    "r = requests.get(url)\n",
    "html = r.content\n",
    "soup = BeautifulSoup(html,'html.parser')\n",
    "df_bk = pd.read_json(str(soup.encode('utf-8')).lstrip(\"b'\").rstrip(\"'\"), orient='records')[['storeId', 'latitude', 'longitude']]\n",
    "df_bk.describe()"
   ]
  },
  {
   "cell_type": "markdown",
   "metadata": {},
   "source": [
    "**Как можно заметить из значений широты и долготы, кроме московских ресторанов были получены все отсальные рестораны на территории России. Оставим только рестораны, находящиеся в Москве.**"
   ]
  },
  {
   "cell_type": "code",
   "execution_count": 4,
   "metadata": {},
   "outputs": [
    {
     "data": {
      "text/html": [
       "<div>\n",
       "<style scoped>\n",
       "    .dataframe tbody tr th:only-of-type {\n",
       "        vertical-align: middle;\n",
       "    }\n",
       "\n",
       "    .dataframe tbody tr th {\n",
       "        vertical-align: top;\n",
       "    }\n",
       "\n",
       "    .dataframe thead th {\n",
       "        text-align: right;\n",
       "    }\n",
       "</style>\n",
       "<table border=\"1\" class=\"dataframe\">\n",
       "  <thead>\n",
       "    <tr style=\"text-align: right;\">\n",
       "      <th></th>\n",
       "      <th>latitude</th>\n",
       "      <th>longitude</th>\n",
       "    </tr>\n",
       "  </thead>\n",
       "  <tbody>\n",
       "    <tr>\n",
       "      <th>count</th>\n",
       "      <td>176.000000</td>\n",
       "      <td>176.000000</td>\n",
       "    </tr>\n",
       "    <tr>\n",
       "      <th>mean</th>\n",
       "      <td>55.731538</td>\n",
       "      <td>37.599008</td>\n",
       "    </tr>\n",
       "    <tr>\n",
       "      <th>std</th>\n",
       "      <td>0.088697</td>\n",
       "      <td>0.118417</td>\n",
       "    </tr>\n",
       "    <tr>\n",
       "      <th>min</th>\n",
       "      <td>55.524426</td>\n",
       "      <td>37.286292</td>\n",
       "    </tr>\n",
       "    <tr>\n",
       "      <th>25%</th>\n",
       "      <td>55.658817</td>\n",
       "      <td>37.517396</td>\n",
       "    </tr>\n",
       "    <tr>\n",
       "      <th>50%</th>\n",
       "      <td>55.739583</td>\n",
       "      <td>37.603735</td>\n",
       "    </tr>\n",
       "    <tr>\n",
       "      <th>75%</th>\n",
       "      <td>55.795755</td>\n",
       "      <td>37.662569</td>\n",
       "    </tr>\n",
       "    <tr>\n",
       "      <th>max</th>\n",
       "      <td>55.939877</td>\n",
       "      <td>37.931641</td>\n",
       "    </tr>\n",
       "  </tbody>\n",
       "</table>\n",
       "</div>"
      ],
      "text/plain": [
       "         latitude   longitude\n",
       "count  176.000000  176.000000\n",
       "mean    55.731538   37.599008\n",
       "std      0.088697    0.118417\n",
       "min     55.524426   37.286292\n",
       "25%     55.658817   37.517396\n",
       "50%     55.739583   37.603735\n",
       "75%     55.795755   37.662569\n",
       "max     55.939877   37.931641"
      ]
     },
     "execution_count": 4,
     "metadata": {},
     "output_type": "execute_result"
    }
   ],
   "source": [
    "# Сократим пространство для поиска, указав грубые границы Москвы\n",
    "min_lat, max_lat, min_lon, max_lon = [54.5, 56.5, 36.5, 38.5]\n",
    "df_bk = df_bk[(df_bk['latitude'] > min_lat)\n",
    "              & (df_bk['latitude'] < max_lat)\n",
    "              & (df_bk['longitude'] > min_lon)\n",
    "              & (df_bk['longitude'] < max_lon)]\n",
    "\n",
    "# По уже изветным ID сделаем серию запросов и найдем все московские рестораны \n",
    "def get_moscow_bk(x):\n",
    "    url = 'https://burgerking.ru/map-markers-info?storeId=' + str(x) + '&lat=&lon='\n",
    "    r = requests.get(url)\n",
    "    soup = BeautifulSoup(r.content,'html.parser')\n",
    "    city = str(soup.find(\"p\", class_=\"over-bubble-city\").string)\n",
    "    if city == 'Москва':\n",
    "        return True\n",
    "    else:\n",
    "        return False\n",
    "\n",
    "df_bk['default_city'] = df_bk['storeId'].apply(lambda x: get_moscow_bk(x))\n",
    "df_bk = df_bk[df_bk['default_city']][['latitude', 'longitude']]\n",
    "df_bk.describe()"
   ]
  },
  {
   "cell_type": "markdown",
   "metadata": {},
   "source": [
    "**Теперь получим список координат московских ресторанов KFC**"
   ]
  },
  {
   "cell_type": "code",
   "execution_count": 5,
   "metadata": {},
   "outputs": [
    {
     "data": {
      "text/plain": [
       "0    [55.775006, 37.583211]\n",
       "1    [55.770008, 37.596554]\n",
       "2    [55.779947, 37.600095]\n",
       "3    [55.761217, 37.576088]\n",
       "4    [55.764544, 37.564352]\n",
       "Name: contacts, dtype: object"
      ]
     },
     "execution_count": 5,
     "metadata": {},
     "output_type": "execute_result"
    }
   ],
   "source": [
    "url = 'https://www.kfc.ru/restaurants'\n",
    "\n",
    "r = requests.get(url)\n",
    "html = r.text\n",
    "pattern = re.compile('(?<=restaurantsList\":).*(?=,\"mappedRestaurantsList)')\n",
    "match = re.search(pattern, html)\n",
    "if match:\n",
    "    s_kfc = pd.read_json(match.group(), orient='records', encoding='windows-1251')\n",
    "else:\n",
    "    print('Список ресторанов restaurantsList не найден!')\n",
    "\n",
    "    \n",
    "def search_coords(x):\n",
    "    pattern = re.compile(r'(?<=coordinates\":)(\\[.*\\])(?=\\})')\n",
    "    match = re.search(pattern, str(x))\n",
    "    if match:\n",
    "        x = match.group()\n",
    "    else:\n",
    "        x = np.nan\n",
    "    return x\n",
    "\n",
    "Moscow_CityId = '7575f6fe-1cc8-4e95-a63e-cb7008868fde'\n",
    "s_kfc = s_kfc[s_kfc['kfcCityId'] == Moscow_CityId]['contacts'].apply(lambda x: x['coordinates']['geometry']['coordinates'])\n",
    "s_kfc.head()"
   ]
  },
  {
   "cell_type": "markdown",
   "metadata": {},
   "source": [
    "**Проверим отсутствие пустых записей**"
   ]
  },
  {
   "cell_type": "code",
   "execution_count": 6,
   "metadata": {},
   "outputs": [
    {
     "data": {
      "text/plain": [
       "False"
      ]
     },
     "execution_count": 6,
     "metadata": {},
     "output_type": "execute_result"
    }
   ],
   "source": [
    "s_kfc.isnull().values.any()"
   ]
  },
  {
   "cell_type": "markdown",
   "metadata": {},
   "source": [
    "**Пустых записей не найдено.  \n",
    "Найдем для каждого ресторана Burger King рестораны KFC, расположенные в радиусе 2 км. Координаты ресторанов KFC, удовлетворяющих условию близости.  \n",
    "Отсортируем рестораны Burger King по количеству конкуренов в радиусе 2 км.**"
   ]
  },
  {
   "cell_type": "code",
   "execution_count": 7,
   "metadata": {},
   "outputs": [
    {
     "data": {
      "text/html": [
       "<div>\n",
       "<style scoped>\n",
       "    .dataframe tbody tr th:only-of-type {\n",
       "        vertical-align: middle;\n",
       "    }\n",
       "\n",
       "    .dataframe tbody tr th {\n",
       "        vertical-align: top;\n",
       "    }\n",
       "\n",
       "    .dataframe thead th {\n",
       "        text-align: right;\n",
       "    }\n",
       "</style>\n",
       "<table border=\"1\" class=\"dataframe\">\n",
       "  <thead>\n",
       "    <tr style=\"text-align: right;\">\n",
       "      <th></th>\n",
       "      <th>latitude</th>\n",
       "      <th>longitude</th>\n",
       "      <th>nearest_kfc</th>\n",
       "    </tr>\n",
       "  </thead>\n",
       "  <tbody>\n",
       "    <tr>\n",
       "      <th>56</th>\n",
       "      <td>55.767115</td>\n",
       "      <td>37.371795</td>\n",
       "      <td>0</td>\n",
       "    </tr>\n",
       "    <tr>\n",
       "      <th>70</th>\n",
       "      <td>55.637078</td>\n",
       "      <td>37.353189</td>\n",
       "      <td>0</td>\n",
       "    </tr>\n",
       "    <tr>\n",
       "      <th>479</th>\n",
       "      <td>55.625748</td>\n",
       "      <td>37.306488</td>\n",
       "      <td>0</td>\n",
       "    </tr>\n",
       "    <tr>\n",
       "      <th>61</th>\n",
       "      <td>55.605058</td>\n",
       "      <td>37.286292</td>\n",
       "      <td>0</td>\n",
       "    </tr>\n",
       "    <tr>\n",
       "      <th>652</th>\n",
       "      <td>55.826660</td>\n",
       "      <td>37.444790</td>\n",
       "      <td>0</td>\n",
       "    </tr>\n",
       "    <tr>\n",
       "      <th>...</th>\n",
       "      <td>...</td>\n",
       "      <td>...</td>\n",
       "      <td>...</td>\n",
       "    </tr>\n",
       "    <tr>\n",
       "      <th>457</th>\n",
       "      <td>55.781134</td>\n",
       "      <td>37.631883</td>\n",
       "      <td>10</td>\n",
       "    </tr>\n",
       "    <tr>\n",
       "      <th>503</th>\n",
       "      <td>55.760488</td>\n",
       "      <td>37.614732</td>\n",
       "      <td>10</td>\n",
       "    </tr>\n",
       "    <tr>\n",
       "      <th>67</th>\n",
       "      <td>55.752630</td>\n",
       "      <td>37.603551</td>\n",
       "      <td>12</td>\n",
       "    </tr>\n",
       "    <tr>\n",
       "      <th>456</th>\n",
       "      <td>55.771794</td>\n",
       "      <td>37.633162</td>\n",
       "      <td>12</td>\n",
       "    </tr>\n",
       "    <tr>\n",
       "      <th>3</th>\n",
       "      <td>55.756184</td>\n",
       "      <td>37.615438</td>\n",
       "      <td>12</td>\n",
       "    </tr>\n",
       "  </tbody>\n",
       "</table>\n",
       "<p>176 rows × 3 columns</p>\n",
       "</div>"
      ],
      "text/plain": [
       "      latitude  longitude  nearest_kfc\n",
       "56   55.767115  37.371795            0\n",
       "70   55.637078  37.353189            0\n",
       "479  55.625748  37.306488            0\n",
       "61   55.605058  37.286292            0\n",
       "652  55.826660  37.444790            0\n",
       "..         ...        ...          ...\n",
       "457  55.781134  37.631883           10\n",
       "503  55.760488  37.614732           10\n",
       "67   55.752630  37.603551           12\n",
       "456  55.771794  37.633162           12\n",
       "3    55.756184  37.615438           12\n",
       "\n",
       "[176 rows x 3 columns]"
      ]
     },
     "execution_count": 7,
     "metadata": {},
     "output_type": "execute_result"
    }
   ],
   "source": [
    "def nearest_kfc(df_bk, s_kfc):\n",
    "    counts=[]\n",
    "    for i in df_bk.index:\n",
    "        count = 0\n",
    "        for kfc in s_kfc.values:\n",
    "            d = distance((float(df_bk['latitude'][[i]]), float(df_bk['longitude'][[i]])), kfc).km\n",
    "            if d <= 2:\n",
    "                count += 1\n",
    "        counts.append(count)\n",
    "    return counts\n",
    "\n",
    "df_bk['nearest_kfc'] = pd.Series(nearest_kfc(df_bk, s_kfc), index=df_bk.index)\n",
    "df_bk.sort_values('nearest_kfc', inplace=True)\n",
    "df_bk"
   ]
  },
  {
   "cell_type": "markdown",
   "metadata": {},
   "source": [
    "**Посмотрим на распределение количества ближайших KFC, чтобы получить дополнительную информацию к выбору цветов маркеров и соответсвующих интервалов интересуемой величины.**"
   ]
  },
  {
   "cell_type": "code",
   "execution_count": 8,
   "metadata": {},
   "outputs": [
    {
     "data": {
      "image/png": "[encoded data removed]",
      "text/plain": [
       "<Figure size 432x288 with 1 Axes>"
      ]
     },
     "metadata": {
      "needs_background": "light"
     },
     "output_type": "display_data"
    }
   ],
   "source": [
    "b = sns.countplot(x='nearest_kfc', data=df_bk);"
   ]
  },
  {
   "cell_type": "markdown",
   "metadata": {},
   "source": [
    "**Все возможные значения nearest_kfc отображать на карте не выглядит удобным для анализа вариантом.\n",
    "Поэтому выберем диапазоны значений nearest_kfc, в качестве исключения оставив нулевому значению отдельный цвет\n",
    "и отделив все, что больше 12, в отдельную группу.  \n",
    "Добавим к df_bk столбец с цветом маркера, отображаемого на карте.**\n"
   ]
  },
  {
   "cell_type": "code",
   "execution_count": 9,
   "metadata": {},
   "outputs": [
    {
     "data": {
      "text/html": [
       "<div>\n",
       "<style scoped>\n",
       "    .dataframe tbody tr th:only-of-type {\n",
       "        vertical-align: middle;\n",
       "    }\n",
       "\n",
       "    .dataframe tbody tr th {\n",
       "        vertical-align: top;\n",
       "    }\n",
       "\n",
       "    .dataframe thead th {\n",
       "        text-align: right;\n",
       "    }\n",
       "</style>\n",
       "<table border=\"1\" class=\"dataframe\">\n",
       "  <thead>\n",
       "    <tr style=\"text-align: right;\">\n",
       "      <th></th>\n",
       "      <th>latitude</th>\n",
       "      <th>longitude</th>\n",
       "      <th>nearest_kfc</th>\n",
       "      <th>color</th>\n",
       "    </tr>\n",
       "  </thead>\n",
       "  <tbody>\n",
       "    <tr>\n",
       "      <th>56</th>\n",
       "      <td>55.767115</td>\n",
       "      <td>37.371795</td>\n",
       "      <td>0</td>\n",
       "      <td>#8A0886</td>\n",
       "    </tr>\n",
       "    <tr>\n",
       "      <th>70</th>\n",
       "      <td>55.637078</td>\n",
       "      <td>37.353189</td>\n",
       "      <td>0</td>\n",
       "      <td>#8A0886</td>\n",
       "    </tr>\n",
       "    <tr>\n",
       "      <th>479</th>\n",
       "      <td>55.625748</td>\n",
       "      <td>37.306488</td>\n",
       "      <td>0</td>\n",
       "      <td>#8A0886</td>\n",
       "    </tr>\n",
       "    <tr>\n",
       "      <th>61</th>\n",
       "      <td>55.605058</td>\n",
       "      <td>37.286292</td>\n",
       "      <td>0</td>\n",
       "      <td>#8A0886</td>\n",
       "    </tr>\n",
       "    <tr>\n",
       "      <th>652</th>\n",
       "      <td>55.826660</td>\n",
       "      <td>37.444790</td>\n",
       "      <td>0</td>\n",
       "      <td>#8A0886</td>\n",
       "    </tr>\n",
       "    <tr>\n",
       "      <th>...</th>\n",
       "      <td>...</td>\n",
       "      <td>...</td>\n",
       "      <td>...</td>\n",
       "      <td>...</td>\n",
       "    </tr>\n",
       "    <tr>\n",
       "      <th>457</th>\n",
       "      <td>55.781134</td>\n",
       "      <td>37.631883</td>\n",
       "      <td>10</td>\n",
       "      <td>orange</td>\n",
       "    </tr>\n",
       "    <tr>\n",
       "      <th>503</th>\n",
       "      <td>55.760488</td>\n",
       "      <td>37.614732</td>\n",
       "      <td>10</td>\n",
       "      <td>orange</td>\n",
       "    </tr>\n",
       "    <tr>\n",
       "      <th>67</th>\n",
       "      <td>55.752630</td>\n",
       "      <td>37.603551</td>\n",
       "      <td>12</td>\n",
       "      <td>red</td>\n",
       "    </tr>\n",
       "    <tr>\n",
       "      <th>456</th>\n",
       "      <td>55.771794</td>\n",
       "      <td>37.633162</td>\n",
       "      <td>12</td>\n",
       "      <td>red</td>\n",
       "    </tr>\n",
       "    <tr>\n",
       "      <th>3</th>\n",
       "      <td>55.756184</td>\n",
       "      <td>37.615438</td>\n",
       "      <td>12</td>\n",
       "      <td>red</td>\n",
       "    </tr>\n",
       "  </tbody>\n",
       "</table>\n",
       "<p>176 rows × 4 columns</p>\n",
       "</div>"
      ],
      "text/plain": [
       "      latitude  longitude  nearest_kfc    color\n",
       "56   55.767115  37.371795            0  #8A0886\n",
       "70   55.637078  37.353189            0  #8A0886\n",
       "479  55.625748  37.306488            0  #8A0886\n",
       "61   55.605058  37.286292            0  #8A0886\n",
       "652  55.826660  37.444790            0  #8A0886\n",
       "..         ...        ...          ...      ...\n",
       "457  55.781134  37.631883           10   orange\n",
       "503  55.760488  37.614732           10   orange\n",
       "67   55.752630  37.603551           12      red\n",
       "456  55.771794  37.633162           12      red\n",
       "3    55.756184  37.615438           12      red\n",
       "\n",
       "[176 rows x 4 columns]"
      ]
     },
     "execution_count": 9,
     "metadata": {},
     "output_type": "execute_result"
    }
   ],
   "source": [
    "def set_color(x):\n",
    "    if x == 0:\n",
    "        x = '#8A0886'\n",
    "    elif x in [1, 2]:\n",
    "        x = 'blue'\n",
    "    elif x in [3, 4]:\n",
    "        x = '#04B404'\n",
    "    elif x in [5, 6, 7]:\n",
    "        x = 'yellow'\n",
    "    elif x in [8, 9, 10, 11]:\n",
    "        x = 'orange'\n",
    "    elif x >= 12:\n",
    "        x = 'red'\n",
    "    return x\n",
    "\n",
    "df_bk['color'] = df_bk['nearest_kfc'].apply(lambda x: set_color(x))\n",
    "df_bk"
   ]
  },
  {
   "cell_type": "markdown",
   "metadata": {},
   "source": [
    "**Отобразим рестораны Burger King на карте Москвы.**"
   ]
  },
  {
   "cell_type": "code",
   "execution_count": 10,
   "metadata": {},
   "outputs": [
    {
     "data": {
      "application/vnd.jupyter.widget-view+json": {
       "model_id": "28afb758f92041d693541b5fbf6d4d40",
       "version_major": 2,
       "version_minor": 0
      },
      "text/plain": [
       "Map(center=[55.775006, 37.583211], controls=(ZoomControl(options=['position', 'zoom_in_text', 'zoom_in_title',…"
      ]
     },
     "metadata": {},
     "output_type": "display_data"
    }
   ],
   "source": [
    "center = (55.775006, 37.583211)\n",
    "zoom = 10\n",
    "m = Map(basemap=basemaps.OpenStreetMap.Mapnik, center=center, zoom=zoom)\n",
    "bk_circles = []\n",
    "for i in df_bk.index:\n",
    "    circle = Circle(location=(float(df_bk['latitude'][[i]]), float(df_bk['longitude'][[i]])))\n",
    "    message = HTML()\n",
    "    message.value = f\"<b>Количество<br>конкурентов:</b> {int(df_bk['nearest_kfc'][[i]])}\"\n",
    "    circle.popup = message\n",
    "    circle.radius = 5\n",
    "    circle.color = df_bk['color'][[i]].values[0]\n",
    "    circle.fill_color = df_bk['color'][[i]].values[0]\n",
    "    bk_circles.append(circle)\n",
    "bk_layer = LayerGroup(name='Burger King', layers=bk_circles)\n",
    "m.add_layer(bk_layer)\n",
    "\n",
    "\n",
    "legend = LegendControl({\"0\":\"#B404AE\", \"1-2\":\"blue\",\n",
    "                        \"3-4\":\"#04B404\", \"5-7\": \"yellow\",\n",
    "                        \"8-11\": \"orange\", \">=12\": \"red\"}, \n",
    "                        name=\"Кол-во конкурентов\", position=\"topright\")\n",
    "m.add_control(legend)\n",
    "\n",
    "display(m)"
   ]
  },
  {
   "cell_type": "code",
   "execution_count": null,
   "metadata": {},
   "outputs": [],
   "source": []
  }
 ],
 "metadata": {
  "kernelspec": {
   "display_name": "Python 3",
   "language": "python",
   "name": "python3"
  },
  "language_info": {
   "codemirror_mode": {
    "name": "ipython",
    "version": 3
   },
   "file_extension": ".py",
   "mimetype": "text/x-python",
   "name": "python",
   "nbconvert_exporter": "python",
   "pygments_lexer": "ipython3",
   "version": "3.7.8"
  }
 },
 "nbformat": 4,
 "nbformat_minor": 4
}
